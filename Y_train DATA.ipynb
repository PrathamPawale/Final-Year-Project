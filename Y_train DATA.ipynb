{
 "cells": [
  {
   "cell_type": "code",
   "execution_count": null,
   "id": "8d8a8bd0",
   "metadata": {},
   "outputs": [],
   "source": [
    "import pandas as pd\n",
    "import numpy as np\n",
    "#from matplotlib import style\n",
    "import seaborn as sns\n",
    "from sklearn.cluster import KMeans\n",
    "import matplotlib.pyplot as plt"
   ]
  },
  {
   "cell_type": "code",
   "execution_count": null,
   "id": "6538d080",
   "metadata": {},
   "outputs": [],
   "source": [
    "d2=pd.read_csv(\"afternoon_regular_points.csv\")\n",
    "d1=pd.read_csv(\"day_morning_9_points.csv\")\n",
    "d5=pd.read_csv(\"holidays_points.csv\")\n",
    "d4=pd.read_csv(\"night_home_points.csv\")\n",
    "#d5_og_lat_lon=pd.read_csv(\"lat_long_points.csv\")\n",
    "d3=pd.read_csv(\"evening_garden_points.csv\")"
   ]
  },
  {
   "cell_type": "code",
   "execution_count": null,
   "id": "9474d1d8",
   "metadata": {},
   "outputs": [],
   "source": [
    "d1=d1[:28]\n",
    "d2=d2[:28]\n",
    "d3=d3[:28]\n",
    "d4=d4[:28]\n",
    "d5=d5[:28]"
   ]
  },
  {
   "cell_type": "markdown",
   "id": "bea26e38",
   "metadata": {},
   "source": [
    "\n",
    "## Elobow Method\n",
    "#### to find optimum no. of clusters"
   ]
  },
  {
   "cell_type": "code",
   "execution_count": null,
   "id": "7fe82625",
   "metadata": {},
   "outputs": [],
   "source": [
    "wcc=[]\n",
    "for i in range(1,11):\n",
    "    kmeans=KMeans(n_clusters=i,init=\"k-means++\",max_iter=300 , n_init=10,random_state=37)\n",
    "    kmeans.fit(d1_after)\n",
    "    wcc.append(kmeans.inertia_)\n",
    "\n",
    "plt.plot(range(1,11),wcc)\n",
    "plt.title(\"elbow mwthod\")\n",
    "plt.show()"
   ]
  },
  {
   "cell_type": "code",
   "execution_count": null,
   "id": "e3f74979",
   "metadata": {},
   "outputs": [],
   "source": [
    "kmeans=KMeans(n_clusters=4)\n",
    "kmeans.fit(d1_after)\n",
    "d1f=kmeans.cluster_centers_"
   ]
  },
  {
   "cell_type": "code",
   "execution_count": null,
   "id": "e39a0eea",
   "metadata": {},
   "outputs": [],
   "source": [
    "kmeans.cluster_centers_"
   ]
  },
  {
   "cell_type": "code",
   "execution_count": null,
   "id": "40902105",
   "metadata": {},
   "outputs": [],
   "source": [
    "d1_f.shape"
   ]
  },
  {
   "cell_type": "code",
   "execution_count": null,
   "id": "b7f673a1",
   "metadata": {},
   "outputs": [],
   "source": [
    "d1_ff=d1_f.flatten()"
   ]
  },
  {
   "cell_type": "code",
   "execution_count": null,
   "id": "0f611908",
   "metadata": {},
   "outputs": [],
   "source": [
    "d1_ff.shape"
   ]
  },
  {
   "cell_type": "code",
   "execution_count": null,
   "id": "44acb3ce",
   "metadata": {},
   "outputs": [],
   "source": [
    "def fd(d):\n",
    "    kmeans=KMeans(n_clusters=4)\n",
    "    kmeans.fit(d)\n",
    "    oo=kmeans.cluster_centers_\n",
    "    return oo"
   ]
  },
  {
   "cell_type": "code",
   "execution_count": null,
   "id": "24ff5dcf",
   "metadata": {},
   "outputs": [],
   "source": [
    "#d1f=fd(d1)\n",
    "d2f=fd(d2)\n",
    "d3f=fd(d3)\n",
    "d4f=fd(d4)\n",
    "d5f=fd(d5)\n",
    "\n",
    "d1f=d1f.flatten()\n",
    "d2f=d2f.flatten()\n",
    "d3f=d3f.flatten()\n",
    "d4f=d4f.flatten()\n",
    "d5f=d5f.flatten()\n",
    "\n",
    "d1f.resize(1,8)\n",
    "d2f.resize(1,8)\n",
    "d3f.resize(1,8)\n",
    "d4f.resize(1,8)\n",
    "d5f.resize(1,8)"
   ]
  },
  {
   "cell_type": "code",
   "execution_count": null,
   "id": "f5951a75",
   "metadata": {},
   "outputs": [],
   "source": [
    "outp=np.concatenate((d1f,d2f,d3f,d4f,d5f),axis=0)"
   ]
  },
  {
   "cell_type": "code",
   "execution_count": null,
   "id": "171dbd5c",
   "metadata": {},
   "outputs": [],
   "source": [
    "oouu=pd.DataFrame(outp)\n",
    "oouu.to_csv(\"Y_train.csv\",header=False,index=False)"
   ]
  }
 ],
 "metadata": {
  "kernelspec": {
   "display_name": "Python 3 (ipykernel)",
   "language": "python",
   "name": "python3"
  },
  "language_info": {
   "codemirror_mode": {
    "name": "ipython",
    "version": 3
   },
   "file_extension": ".py",
   "mimetype": "text/x-python",
   "name": "python",
   "nbconvert_exporter": "python",
   "pygments_lexer": "ipython3",
   "version": "3.9.7"
  }
 },
 "nbformat": 4,
 "nbformat_minor": 5
}
