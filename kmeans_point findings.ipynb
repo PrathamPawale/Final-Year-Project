{
 "cells": [
  {
   "cell_type": "code",
   "execution_count": 1,
   "id": "e7e931d7",
   "metadata": {},
   "outputs": [],
   "source": [
    "import pandas as pd\n",
    "import numpy as np"
   ]
  },
  {
   "cell_type": "code",
   "execution_count": 4,
   "id": "d01eb6f5",
   "metadata": {},
   "outputs": [
    {
     "data": {
      "text/html": [
       "<div>\n",
       "<style scoped>\n",
       "    .dataframe tbody tr th:only-of-type {\n",
       "        vertical-align: middle;\n",
       "    }\n",
       "\n",
       "    .dataframe tbody tr th {\n",
       "        vertical-align: top;\n",
       "    }\n",
       "\n",
       "    .dataframe thead th {\n",
       "        text-align: right;\n",
       "    }\n",
       "</style>\n",
       "<table border=\"1\" class=\"dataframe\">\n",
       "  <thead>\n",
       "    <tr style=\"text-align: right;\">\n",
       "      <th></th>\n",
       "      <th>lat</th>\n",
       "      <th>lon</th>\n",
       "    </tr>\n",
       "  </thead>\n",
       "  <tbody>\n",
       "    <tr>\n",
       "      <th>0</th>\n",
       "      <td>18.527103</td>\n",
       "      <td>73.927795</td>\n",
       "    </tr>\n",
       "    <tr>\n",
       "      <th>1</th>\n",
       "      <td>18.527183</td>\n",
       "      <td>73.927234</td>\n",
       "    </tr>\n",
       "    <tr>\n",
       "      <th>2</th>\n",
       "      <td>18.527114</td>\n",
       "      <td>73.927763</td>\n",
       "    </tr>\n",
       "    <tr>\n",
       "      <th>3</th>\n",
       "      <td>18.527098</td>\n",
       "      <td>73.927820</td>\n",
       "    </tr>\n",
       "    <tr>\n",
       "      <th>4</th>\n",
       "      <td>18.527104</td>\n",
       "      <td>73.927846</td>\n",
       "    </tr>\n",
       "  </tbody>\n",
       "</table>\n",
       "</div>"
      ],
      "text/plain": [
       "         lat        lon\n",
       "0  18.527103  73.927795\n",
       "1  18.527183  73.927234\n",
       "2  18.527114  73.927763\n",
       "3  18.527098  73.927820\n",
       "4  18.527104  73.927846"
      ]
     },
     "execution_count": 4,
     "metadata": {},
     "output_type": "execute_result"
    }
   ],
   "source": [
    "data=pd.read_csv(\"lat_long_points.csv\")\n",
    "data.head()"
   ]
  },
  {
   "cell_type": "code",
   "execution_count": 3,
   "id": "74c99816",
   "metadata": {},
   "outputs": [],
   "source": [
    "import matplotlib.pyplot as plt\n",
    "from matplotlib import style"
   ]
  },
  {
   "cell_type": "code",
   "execution_count": 5,
   "id": "3d0b8c37",
   "metadata": {},
   "outputs": [],
   "source": [
    "style.use('ggplot')"
   ]
  },
  {
   "cell_type": "code",
   "execution_count": 6,
   "id": "5a297009",
   "metadata": {},
   "outputs": [],
   "source": [
    "X=np.array(data)"
   ]
  },
  {
   "cell_type": "code",
   "execution_count": 7,
   "id": "5c9a82d4",
   "metadata": {
    "scrolled": true
   },
   "outputs": [
    {
     "data": {
      "text/plain": [
       "array([[18.52710263, 73.92779457],\n",
       "       [18.52718267, 73.92723362],\n",
       "       [18.52711374, 73.927763  ],\n",
       "       [18.52709803, 73.92782023],\n",
       "       [18.52710374, 73.92784584],\n",
       "       [18.52724512, 73.92757022],\n",
       "       [18.52722938, 73.92852205],\n",
       "       [18.52721017, 73.92887672],\n",
       "       [18.52647354, 73.9284072 ],\n",
       "       [18.5264351 , 73.92864027],\n",
       "       [18.52644471, 73.92854907],\n",
       "       [18.53073658, 73.91830828],\n",
       "       [18.53074833, 73.91838882],\n",
       "       [18.53066609, 73.91845697],\n",
       "       [18.52997293, 73.91817817],\n",
       "       [18.52943837, 73.91851273],\n",
       "       [18.53733346, 73.91788483],\n",
       "       [18.534936  , 73.92834183],\n",
       "       [18.53361598, 73.93415448],\n",
       "       [18.5336806 , 73.93464392],\n",
       "       [18.53390969, 73.93411731],\n",
       "       [18.53275248, 73.93534401],\n",
       "       [18.5327701 , 73.93527586],\n",
       "       [18.5327466 , 73.93532542],\n",
       "       [18.53271723, 73.93528825],\n",
       "       [18.52111712, 73.90670817],\n",
       "       [18.52113313, 73.9067791 ],\n",
       "       [18.52112353, 73.90674195],\n",
       "       [18.52113954, 73.90688719],\n",
       "       [18.52111071, 73.9069007 ],\n",
       "       [18.52110111, 73.90680275],\n",
       "       [18.5210947 , 73.90667101],\n",
       "       [18.52004838, 73.90676558],\n",
       "       [18.52003494, 73.90680813],\n",
       "       [18.51998562, 73.90682705],\n",
       "       [18.52000804, 73.90674667],\n",
       "       [18.51991389, 73.90678922],\n",
       "       [18.51986009, 73.9067514 ],\n",
       "       [18.51983768, 73.90680341],\n",
       "       [18.52064912, 73.90646772],\n",
       "       [18.51865732, 73.90658477],\n",
       "       [18.51800745, 73.90733895],\n",
       "       [18.51754767, 73.90266926],\n",
       "       [18.51753156, 73.90275421],\n",
       "       [18.51756378, 73.90246538],\n",
       "       [18.52284534, 73.8623137 ],\n",
       "       [18.52226631, 73.86671924],\n",
       "       [18.52028103, 73.8668501 ],\n",
       "       [18.52007423, 73.86737353],\n",
       "       [18.51970199, 73.86702457],\n",
       "       [18.51999151, 73.86641391],\n",
       "       [18.52855286, 73.87382916],\n",
       "       [18.52826336, 73.87487602],\n",
       "       [18.52784977, 73.87465792],\n",
       "       [18.52743619, 73.87522497],\n",
       "       [18.52797385, 73.8736983 ],\n",
       "       [18.52743619, 73.87417811],\n",
       "       [18.52904916, 73.8759665 ],\n",
       "       [18.53012447, 73.8750505 ],\n",
       "       [18.53300855, 73.87775056],\n",
       "       [18.53272463, 73.87785945],\n",
       "       [18.53249233, 73.8785128 ],\n",
       "       [18.53383451, 73.8772061 ],\n",
       "       [18.53585772, 73.87466024],\n",
       "       [18.53590986, 73.87474692],\n",
       "       [18.53589251, 73.87473777],\n",
       "       [18.53587083, 73.87472405],\n",
       "       [18.53263815, 73.87477077],\n",
       "       [18.51708527, 73.8597237 ],\n",
       "       [18.51943048, 73.85924807],\n",
       "       [18.51767158, 73.86115058],\n",
       "       [18.51911478, 73.86024689],\n",
       "       [18.51830298, 73.85901026],\n",
       "       [18.51489789, 73.86514586],\n",
       "       [18.51737843, 73.86564527],\n",
       "       [18.51796473, 73.86799963],\n",
       "       [18.52082857, 73.86250612],\n",
       "       [18.52141486, 73.86421838],\n",
       "       [18.52204625, 73.85810656],\n",
       "       [18.52290313, 73.85725043],\n",
       "       [18.51918243, 73.85539548],\n",
       "       [18.52003933, 73.8556333 ],\n",
       "       [18.51927263, 73.85615649],\n",
       "       [18.5118138 , 73.88614914]])"
      ]
     },
     "execution_count": 7,
     "metadata": {},
     "output_type": "execute_result"
    }
   ],
   "source": [
    "X"
   ]
  },
  {
   "cell_type": "code",
   "execution_count": 8,
   "id": "6ecb2d58",
   "metadata": {},
   "outputs": [],
   "source": [
    "colors=10*['g','r','c','b','k']"
   ]
  },
  {
   "cell_type": "code",
   "execution_count": 9,
   "id": "e373e73b",
   "metadata": {},
   "outputs": [],
   "source": [
    "from sklearn.cluster import KMeans"
   ]
  },
  {
   "cell_type": "code",
   "execution_count": 10,
   "id": "7cd89d2a",
   "metadata": {},
   "outputs": [],
   "source": [
    "km=KMeans()"
   ]
  },
  {
   "cell_type": "code",
   "execution_count": 11,
   "id": "d936259b",
   "metadata": {},
   "outputs": [
    {
     "name": "stderr",
     "output_type": "stream",
     "text": [
      "H:\\AN\\lib\\site-packages\\sklearn\\cluster\\_kmeans.py:1412: FutureWarning: The default value of `n_init` will change from 10 to 'auto' in 1.4. Set the value of `n_init` explicitly to suppress the warning\n",
      "  super()._check_params_vs_input(X, default_n_init=10)\n",
      "H:\\AN\\lib\\site-packages\\sklearn\\cluster\\_kmeans.py:1436: UserWarning: KMeans is known to have a memory leak on Windows with MKL, when there are less chunks than available threads. You can avoid it by setting the environment variable OMP_NUM_THREADS=1.\n",
      "  warnings.warn(\n"
     ]
    },
    {
     "data": {
      "text/html": [
       "<style>#sk-container-id-1 {color: black;}#sk-container-id-1 pre{padding: 0;}#sk-container-id-1 div.sk-toggleable {background-color: white;}#sk-container-id-1 label.sk-toggleable__label {cursor: pointer;display: block;width: 100%;margin-bottom: 0;padding: 0.3em;box-sizing: border-box;text-align: center;}#sk-container-id-1 label.sk-toggleable__label-arrow:before {content: \"▸\";float: left;margin-right: 0.25em;color: #696969;}#sk-container-id-1 label.sk-toggleable__label-arrow:hover:before {color: black;}#sk-container-id-1 div.sk-estimator:hover label.sk-toggleable__label-arrow:before {color: black;}#sk-container-id-1 div.sk-toggleable__content {max-height: 0;max-width: 0;overflow: hidden;text-align: left;background-color: #f0f8ff;}#sk-container-id-1 div.sk-toggleable__content pre {margin: 0.2em;color: black;border-radius: 0.25em;background-color: #f0f8ff;}#sk-container-id-1 input.sk-toggleable__control:checked~div.sk-toggleable__content {max-height: 200px;max-width: 100%;overflow: auto;}#sk-container-id-1 input.sk-toggleable__control:checked~label.sk-toggleable__label-arrow:before {content: \"▾\";}#sk-container-id-1 div.sk-estimator input.sk-toggleable__control:checked~label.sk-toggleable__label {background-color: #d4ebff;}#sk-container-id-1 div.sk-label input.sk-toggleable__control:checked~label.sk-toggleable__label {background-color: #d4ebff;}#sk-container-id-1 input.sk-hidden--visually {border: 0;clip: rect(1px 1px 1px 1px);clip: rect(1px, 1px, 1px, 1px);height: 1px;margin: -1px;overflow: hidden;padding: 0;position: absolute;width: 1px;}#sk-container-id-1 div.sk-estimator {font-family: monospace;background-color: #f0f8ff;border: 1px dotted black;border-radius: 0.25em;box-sizing: border-box;margin-bottom: 0.5em;}#sk-container-id-1 div.sk-estimator:hover {background-color: #d4ebff;}#sk-container-id-1 div.sk-parallel-item::after {content: \"\";width: 100%;border-bottom: 1px solid gray;flex-grow: 1;}#sk-container-id-1 div.sk-label:hover label.sk-toggleable__label {background-color: #d4ebff;}#sk-container-id-1 div.sk-serial::before {content: \"\";position: absolute;border-left: 1px solid gray;box-sizing: border-box;top: 0;bottom: 0;left: 50%;z-index: 0;}#sk-container-id-1 div.sk-serial {display: flex;flex-direction: column;align-items: center;background-color: white;padding-right: 0.2em;padding-left: 0.2em;position: relative;}#sk-container-id-1 div.sk-item {position: relative;z-index: 1;}#sk-container-id-1 div.sk-parallel {display: flex;align-items: stretch;justify-content: center;background-color: white;position: relative;}#sk-container-id-1 div.sk-item::before, #sk-container-id-1 div.sk-parallel-item::before {content: \"\";position: absolute;border-left: 1px solid gray;box-sizing: border-box;top: 0;bottom: 0;left: 50%;z-index: -1;}#sk-container-id-1 div.sk-parallel-item {display: flex;flex-direction: column;z-index: 1;position: relative;background-color: white;}#sk-container-id-1 div.sk-parallel-item:first-child::after {align-self: flex-end;width: 50%;}#sk-container-id-1 div.sk-parallel-item:last-child::after {align-self: flex-start;width: 50%;}#sk-container-id-1 div.sk-parallel-item:only-child::after {width: 0;}#sk-container-id-1 div.sk-dashed-wrapped {border: 1px dashed gray;margin: 0 0.4em 0.5em 0.4em;box-sizing: border-box;padding-bottom: 0.4em;background-color: white;}#sk-container-id-1 div.sk-label label {font-family: monospace;font-weight: bold;display: inline-block;line-height: 1.2em;}#sk-container-id-1 div.sk-label-container {text-align: center;}#sk-container-id-1 div.sk-container {/* jupyter's `normalize.less` sets `[hidden] { display: none; }` but bootstrap.min.css set `[hidden] { display: none !important; }` so we also need the `!important` here to be able to override the default hidden behavior on the sphinx rendered scikit-learn.org. See: https://github.com/scikit-learn/scikit-learn/issues/21755 */display: inline-block !important;position: relative;}#sk-container-id-1 div.sk-text-repr-fallback {display: none;}</style><div id=\"sk-container-id-1\" class=\"sk-top-container\"><div class=\"sk-text-repr-fallback\"><pre>KMeans()</pre><b>In a Jupyter environment, please rerun this cell to show the HTML representation or trust the notebook. <br />On GitHub, the HTML representation is unable to render, please try loading this page with nbviewer.org.</b></div><div class=\"sk-container\" hidden><div class=\"sk-item\"><div class=\"sk-estimator sk-toggleable\"><input class=\"sk-toggleable__control sk-hidden--visually\" id=\"sk-estimator-id-1\" type=\"checkbox\" checked><label for=\"sk-estimator-id-1\" class=\"sk-toggleable__label sk-toggleable__label-arrow\">KMeans</label><div class=\"sk-toggleable__content\"><pre>KMeans()</pre></div></div></div></div></div>"
      ],
      "text/plain": [
       "KMeans()"
      ]
     },
     "execution_count": 11,
     "metadata": {},
     "output_type": "execute_result"
    }
   ],
   "source": [
    "km.fit(X)"
   ]
  },
  {
   "cell_type": "code",
   "execution_count": 13,
   "id": "a6e38aa8",
   "metadata": {},
   "outputs": [
    {
     "data": {
      "text/plain": [
       "<matplotlib.collections.PathCollection at 0x1b9be6731f0>"
      ]
     },
     "execution_count": 13,
     "metadata": {},
     "output_type": "execute_result"
    },
    {
     "data": {
      "image/png": "[encoded data removed]",
      "text/plain": [
       "<Figure size 432x288 with 1 Axes>"
      ]
     },
     "metadata": {
      "needs_background": "light"
     },
     "output_type": "display_data"
    }
   ],
   "source": [
    "plt.scatter(km.cluster_centers_,km.cluster_centers_)"
   ]
  },
  {
   "cell_type": "code",
   "execution_count": null,
   "id": "03511b77",
   "metadata": {},
   "outputs": [],
   "source": [
    "km.class"
   ]
  },
  {
   "cell_type": "code",
   "execution_count": null,
   "id": "259ca251",
   "metadata": {},
   "outputs": [],
   "source": [
    "plt.scatter()"
   ]
  },
  {
   "cell_type": "code",
   "execution_count": 14,
   "id": "54f62609",
   "metadata": {},
   "outputs": [],
   "source": [
    "class K_Means:\n",
    "    def __init__(self, k=4, tol=0.001, max_iter=300):\n",
    "        self.k = k\n",
    "        self.tol = tol\n",
    "        self.max_iter = max_iter\n",
    "\n",
    "    def fit(self,data):\n",
    "\n",
    "        self.centroids = {}\n",
    "\n",
    "        for i in range(self.k):\n",
    "            self.centroids[i] = data[i]\n",
    "\n",
    "        for i in range(self.max_iter):\n",
    "            self.classifications = {}\n",
    "\n",
    "            for i in range(self.k):\n",
    "                self.classifications[i] = []\n",
    "\n",
    "            for featureset in data:\n",
    "                distances = [np.linalg.norm(featureset-self.centroids[centroid]) for centroid in self.centroids]\n",
    "                classification = distances.index(min(distances))\n",
    "                self.classifications[classification].append(featureset)\n",
    "\n",
    "            prev_centroids = dict(self.centroids)\n",
    "\n",
    "            for classification in self.classifications:\n",
    "                self.centroids[classification] = np.average(self.classifications[classification],axis=0)\n",
    "\n",
    "            optimized = True\n",
    "\n",
    "            for c in self.centroids:\n",
    "                original_centroid = prev_centroids[c]\n",
    "                current_centroid = self.centroids[c]\n",
    "                if np.sum((current_centroid-original_centroid)/original_centroid*100.0) > self.tol:\n",
    "                    print(np.sum((current_centroid-original_centroid)/original_centroid*100.0))\n",
    "                    optimized = False\n",
    "\n",
    "            if optimized:\n",
    "                break\n",
    "                \n",
    "\n",
    "    def predict(self,data):\n",
    "        distances = [np.linalg.norm(data-self.centroids[centroid]) for centroid in self.centroids]\n",
    "        classification = distances.index(min(distances))\n",
    "        return classification\n",
    "\n",
    "          "
   ]
  },
  {
   "cell_type": "code",
   "execution_count": 15,
   "id": "8644eba8",
   "metadata": {},
   "outputs": [
    {
     "name": "stdout",
     "output_type": "stream",
     "text": [
      "0.020888063575575176\n",
      "0.00786245757580427\n",
      "0.021517875294384654\n"
     ]
    }
   ],
   "source": [
    "clf=K_Means()\n",
    "clf.fit(X)"
   ]
  },
  {
   "cell_type": "code",
   "execution_count": 16,
   "id": "4b6cd6e4",
   "metadata": {},
   "outputs": [
    {
     "data": {
      "image/png": "[encoded data removed]",
      "text/plain": [
       "<Figure size 432x288 with 1 Axes>"
      ]
     },
     "metadata": {
      "needs_background": "light"
     },
     "output_type": "display_data"
    }
   ],
   "source": [
    "for classification in clf.classifications:\n",
    "    color = colors[classification]\n",
    "    for featureset in clf.classifications[classification]:\n",
    "        plt.scatter(featureset[0], featureset[1], marker=\"x\", color=color, s=150, linewidths=5)\n",
    "plt.show()"
   ]
  },
  {
   "cell_type": "code",
   "execution_count": 17,
   "id": "d6a4c6fd",
   "metadata": {},
   "outputs": [
    {
     "data": {
      "image/png": "[encoded data removed]",
      "text/plain": [
       "<Figure size 432x288 with 1 Axes>"
      ]
     },
     "metadata": {
      "needs_background": "light"
     },
     "output_type": "display_data"
    }
   ],
   "source": [
    "for centroid in clf.centroids:\n",
    "    plt.scatter(clf.centroids[centroid][0], clf.centroids[centroid][1],\n",
    "                marker=\"o\", color=\"k\", s=150, linewidths=5)"
   ]
  },
  {
   "cell_type": "code",
   "execution_count": 19,
   "id": "a90a5b5e",
   "metadata": {},
   "outputs": [],
   "source": [
    "for centroid in clf.centroids:\n",
    "    pl=clf.centroids[centroid][0], clf.centroids[centroid][1]"
   ]
  },
  {
   "cell_type": "code",
   "execution_count": 20,
   "id": "4ac7da9f",
   "metadata": {},
   "outputs": [
    {
     "data": {
      "text/plain": [
       "(18.533391084376902, 73.93406138466261)"
      ]
     },
     "execution_count": 20,
     "metadata": {},
     "output_type": "execute_result"
    }
   ],
   "source": [
    "pl"
   ]
  },
  {
   "cell_type": "code",
   "execution_count": 21,
   "id": "e3079615",
   "metadata": {},
   "outputs": [],
   "source": [
    "poi=clf.centroids"
   ]
  },
  {
   "cell_type": "code",
   "execution_count": 22,
   "id": "c4e9aa26",
   "metadata": {},
   "outputs": [
    {
     "data": {
      "text/plain": [
       "{0: array([18.52696717, 73.92809298]),\n",
       " 1: array([18.52442466, 73.86937992]),\n",
       " 2: array([18.52275189, 73.90922108]),\n",
       " 3: array([18.53339108, 73.93406138])}"
      ]
     },
     "execution_count": 22,
     "metadata": {},
     "output_type": "execute_result"
    }
   ],
   "source": [
    "poi"
   ]
  },
  {
   "cell_type": "code",
   "execution_count": 23,
   "id": "f3694252",
   "metadata": {},
   "outputs": [],
   "source": [
    "import pydeck as pdk"
   ]
  },
  {
   "cell_type": "code",
   "execution_count": null,
   "id": "eebdfa99",
   "metadata": {},
   "outputs": [],
   "source": [
    "#layers setting\n",
    "layers=pdk.Layer('HexagonLayer',\n",
    "    data,\n",
    "    get_position=['Longitude', 'Latitude'],\n",
    "    auto_highlight=True,\n",
    "    elevation_scale=50,\n",
    "    pickable=True,\n",
    "    elevation_range=[0, 3000],\n",
    "    extruded=True,                 \n",
    "    coverage=1)\n",
    "\n",
    "#view Port Location\n",
    "view_state=pdk.ViewState(longitude=78.348516,\n",
    "    latitude=22.824289,\n",
    "    zoom=6,\n",
    "    min_zoom=1,\n",
    "    max_zoom=15,\n",
    "    pitch=40.5,\n",
    "    bearing=-27.36)\n",
    "\n",
    "# Render\n",
    "r = pdk.Deck(layers=[layers], initial_view_state=view_state)\n",
    "r.to_html('demo.html')"
   ]
  }
 ],
 "metadata": {
  "kernelspec": {
   "display_name": "Python 3 (ipykernel)",
   "language": "python",
   "name": "python3"
  },
  "language_info": {
   "codemirror_mode": {
    "name": "ipython",
    "version": 3
   },
   "file_extension": ".py",
   "mimetype": "text/x-python",
   "name": "python",
   "nbconvert_exporter": "python",
   "pygments_lexer": "ipython3",
   "version": "3.9.7"
  }
 },
 "nbformat": 4,
 "nbformat_minor": 5
}
