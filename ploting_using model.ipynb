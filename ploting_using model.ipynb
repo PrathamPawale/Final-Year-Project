{
 "cells": [
  {
   "cell_type": "code",
   "execution_count": null,
   "id": "66c8e81c",
   "metadata": {},
   "outputs": [],
   "source": [
    "import pandas as pd\n",
    "import plotly.express as px"
   ]
  },
  {
   "cell_type": "code",
   "execution_count": null,
   "id": "b20c1839",
   "metadata": {},
   "outputs": [],
   "source": [
    "d2=pd.read_csv(\"afternoon_regular_points.csv\")\n",
    "d1=pd.read_csv(\"day_morning_9_points.csv\")\n",
    "d5=pd.read_csv(\"holidays_points.csv\")\n",
    "d4=pd.read_csv(\"night_home_points.csv\")\n",
    "#d5_og_lat_lon=pd.read_csv(\"lat_long_points.csv\")\n",
    "d3=pd.read_csv(\"evening_garden_points.csv\")"
   ]
  },
  {
   "cell_type": "code",
   "execution_count": null,
   "id": "dc78e2b7",
   "metadata": {},
   "outputs": [],
   "source": [
    "dff=d1_after.copy()"
   ]
  },
  {
   "cell_type": "code",
   "execution_count": null,
   "id": "1f9cd932",
   "metadata": {},
   "outputs": [],
   "source": [
    "fig=px.scatter_mapbox(dff,lat=\"lat\",lon=\"lon\",zoom=8,height=800,width=800)"
   ]
  },
  {
   "cell_type": "code",
   "execution_count": null,
   "id": "ccad025f",
   "metadata": {},
   "outputs": [],
   "source": [
    "fig.update_layout(mapbox_style=\"open-street-map\")\n",
    "fig.update_layout(margin={\"r\":0,\"t\":0,\"l\":0,\"r\":0})\n",
    "fig.show()"
   ]
  },
  {
   "cell_type": "code",
   "execution_count": null,
   "id": "ad860111",
   "metadata": {},
   "outputs": [],
   "source": []
  },
  {
   "cell_type": "code",
   "execution_count": null,
   "id": "da707000",
   "metadata": {},
   "outputs": [],
   "source": []
  },
  {
   "cell_type": "code",
   "execution_count": null,
   "id": "2b37b83c",
   "metadata": {},
   "outputs": [],
   "source": []
  }
 ],
 "metadata": {
  "kernelspec": {
   "display_name": "Python 3 (ipykernel)",
   "language": "python",
   "name": "python3"
  },
  "language_info": {
   "codemirror_mode": {
    "name": "ipython",
    "version": 3
   },
   "file_extension": ".py",
   "mimetype": "text/x-python",
   "name": "python",
   "nbconvert_exporter": "python",
   "pygments_lexer": "ipython3",
   "version": "3.9.7"
  }
 },
 "nbformat": 4,
 "nbformat_minor": 5
}
