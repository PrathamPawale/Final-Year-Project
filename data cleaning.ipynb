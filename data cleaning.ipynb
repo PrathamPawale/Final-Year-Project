{
 "cells": [
  {
   "cell_type": "markdown",
   "id": "1fb639eb",
   "metadata": {},
   "source": [
    "## DATA CLEANING AND BALANCING"
   ]
  },
  {
   "cell_type": "code",
   "execution_count": null,
   "id": "d617f458",
   "metadata": {},
   "outputs": [],
   "source": [
    "import pandas as pd\n",
    "import numpy as np"
   ]
  },
  {
   "cell_type": "code",
   "execution_count": null,
   "id": "cf1be66e",
   "metadata": {},
   "outputs": [],
   "source": [
    "d2=pd.read_csv(\"afternoon_regular_points.csv\")\n",
    "d1=pd.read_csv(\"day_morning_9_points.csv\")\n",
    "d5=pd.read_csv(\"holidays_points.csv\")\n",
    "d4=pd.read_csv(\"night_home_points.csv\")\n",
    "#d5_og_lat_lon=pd.read_csv(\"lat_long_points.csv\")\n",
    "d3=pd.read_csv(\"evening_garden_points.csv\")"
   ]
  },
  {
   "cell_type": "code",
   "execution_count": null,
   "id": "96afa4c5",
   "metadata": {},
   "outputs": [],
   "source": [
    "d1=d1[:28]\n",
    "d2=d2[:28]\n",
    "d3=d3[:28]\n",
    "d4=d4[:28]\n",
    "d5=d5[:28]"
   ]
  },
  {
   "cell_type": "code",
   "execution_count": null,
   "id": "b2fb8361",
   "metadata": {},
   "outputs": [],
   "source": [
    "d1=np.array(d1)\n",
    "d2=np.array(d2)\n",
    "d3=np.array(d3)\n",
    "d4=np.array(d4)\n",
    "d5=np.array(d5)\n",
    "\n",
    "d1=d1.flatten()\n",
    "d2=d2.flatten()\n",
    "d3=d3.flatten()\n",
    "d4=d4.flatten()\n",
    "d5=d5.flatten()"
   ]
  },
  {
   "cell_type": "code",
   "execution_count": null,
   "id": "915a8a7e",
   "metadata": {},
   "outputs": [],
   "source": [
    "d1.resize((1,56))"
   ]
  },
  {
   "cell_type": "code",
   "execution_count": null,
   "id": "ce1e4bc0",
   "metadata": {},
   "outputs": [],
   "source": [
    "a=np.array([[1]])\n",
    "a.resize((1,1))\n",
    "\n",
    "arr = np.concatenate((a,d1), axis=1)"
   ]
  },
  {
   "cell_type": "code",
   "execution_count": null,
   "id": "43444aee",
   "metadata": {},
   "outputs": [],
   "source": [
    "def cn(d,i):\n",
    "    d.resize((1,56))\n",
    "    a=np.array([[i]])\n",
    "    a.resize((1,1))\n",
    "    return (np.concatenate((a,d),axis=1))"
   ]
  },
  {
   "cell_type": "code",
   "execution_count": null,
   "id": "89339b39",
   "metadata": {},
   "outputs": [],
   "source": [
    "d2=cn(d2,2)\n",
    "d3=cn(d3,3)\n",
    "d4=cn(d4,4)\n",
    "d5=cn(d5,5)\n",
    "\n",
    "dat=np.concatenate((d1,d2,d3,d4,d5),axis=0)"
   ]
  },
  {
   "cell_type": "code",
   "execution_count": null,
   "id": "f9583f9e",
   "metadata": {},
   "outputs": [],
   "source": [
    "daa=pd.DataFrame(dat)\n",
    "daa.to_csv(\"data1.csv\",header=False,index=False)"
   ]
  },
  {
   "cell_type": "code",
   "execution_count": null,
   "id": "7206c672",
   "metadata": {},
   "outputs": [],
   "source": []
  },
  {
   "cell_type": "code",
   "execution_count": null,
   "id": "0c290e3e",
   "metadata": {},
   "outputs": [],
   "source": []
  },
  {
   "cell_type": "code",
   "execution_count": null,
   "id": "dd40e3bb",
   "metadata": {},
   "outputs": [],
   "source": []
  },
  {
   "cell_type": "code",
   "execution_count": null,
   "id": "ff2adc99",
   "metadata": {},
   "outputs": [],
   "source": []
  }
 ],
 "metadata": {
  "kernelspec": {
   "display_name": "Python 3 (ipykernel)",
   "language": "python",
   "name": "python3"
  },
  "language_info": {
   "codemirror_mode": {
    "name": "ipython",
    "version": 3
   },
   "file_extension": ".py",
   "mimetype": "text/x-python",
   "name": "python",
   "nbconvert_exporter": "python",
   "pygments_lexer": "ipython3",
   "version": "3.9.7"
  }
 },
 "nbformat": 4,
 "nbformat_minor": 5
}
